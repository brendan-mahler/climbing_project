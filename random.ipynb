{
 "cells": [
  {
   "cell_type": "code",
   "execution_count": 24,
   "id": "cc531707-a467-4359-bc65-532d1b499711",
   "metadata": {},
   "outputs": [],
   "source": [
    "import os\n",
    "import json\n",
    "import pprint"
   ]
  },
  {
   "cell_type": "code",
   "execution_count": 26,
   "id": "70bb48be-0b53-4db4-be7e-490c714e5d2a",
   "metadata": {},
   "outputs": [
    {
     "name": "stdout",
     "output_type": "stream",
     "text": [
      "{\n",
      "    \"protocol\": {\n",
      "        \"minReaderVersion\": 1,\n",
      "        \"minWriterVersion\": 2\n",
      "    }\n",
      "}\n",
      "----------------------------------------\n",
      "{\n",
      "    \"metaData\": {\n",
      "        \"id\": \"4269588f-18c7-4a96-8c66-f8e98125d51f\",\n",
      "        \"name\": null,\n",
      "        \"description\": null,\n",
      "        \"format\": {\n",
      "            \"provider\": \"parquet\",\n",
      "            \"options\": {}\n",
      "        },\n",
      "        \"schemaString\": \"{\\\"type\\\":\\\"struct\\\",\\\"fields\\\":[{\\\"name\\\":\\\"id\\\",\\\"type\\\":\\\"long\\\",\\\"nullable\\\":true,\\\"metadata\\\":{}},{\\\"name\\\":\\\"score\\\",\\\"type\\\":\\\"long\\\",\\\"nullable\\\":true,\\\"metadata\\\":{}},{\\\"name\\\":\\\"shorthand\\\",\\\"type\\\":\\\"string\\\",\\\"nullable\\\":true,\\\"metadata\\\":{}},{\\\"name\\\":\\\"name\\\",\\\"type\\\":\\\"string\\\",\\\"nullable\\\":true,\\\"metadata\\\":{}}]}\",\n",
      "        \"partitionColumns\": [],\n",
      "        \"createdTime\": 1739637551673,\n",
      "        \"configuration\": {}\n",
      "    }\n",
      "}\n",
      "----------------------------------------\n",
      "{\n",
      "    \"add\": {\n",
      "        \"path\": \"part-00001-a2da04b4-72f1-41fe-a0ce-a71ddda620bd-c000.snappy.parquet\",\n",
      "        \"partitionValues\": {},\n",
      "        \"size\": 1491,\n",
      "        \"modificationTime\": 1739637551676,\n",
      "        \"dataChange\": true,\n",
      "        \"stats\": \"{\\\"numRecords\\\":5,\\\"minValues\\\":{\\\"id\\\":1,\\\"name\\\":\\\"Flash\\\",\\\"score\\\":-52,\\\"shorthand\\\":\\\"flash\\\"},\\\"maxValues\\\":{\\\"id\\\":5,\\\"shorthand\\\":\\\"toprope\\\",\\\"score\\\":145,\\\"name\\\":\\\"Toprope\\\"},\\\"nullCount\\\":{\\\"name\\\":0,\\\"id\\\":0,\\\"shorthand\\\":0,\\\"score\\\":0}}\",\n",
      "        \"tags\": null,\n",
      "        \"deletionVector\": null,\n",
      "        \"baseRowId\": null,\n",
      "        \"defaultRowCommitVersion\": null,\n",
      "        \"clusteringProvider\": null\n",
      "    }\n",
      "}\n",
      "----------------------------------------\n",
      "{\n",
      "    \"commitInfo\": {\n",
      "        \"timestamp\": 1739637551676,\n",
      "        \"operation\": \"WRITE\",\n",
      "        \"operationParameters\": {\n",
      "            \"mode\": \"Overwrite\"\n",
      "        },\n",
      "        \"operationMetrics\": {\n",
      "            \"execution_time_ms\": 3,\n",
      "            \"num_added_files\": 1,\n",
      "            \"num_added_rows\": 5,\n",
      "            \"num_partitions\": 0,\n",
      "            \"num_removed_files\": 0\n",
      "        },\n",
      "        \"clientVersion\": \"delta-rs.0.23.1\"\n",
      "    }\n",
      "}\n",
      "----------------------------------------\n"
     ]
    }
   ],
   "source": [
    "# Read a json file from delta lake\n",
    "\n",
    "with open (r\"C:\\Users\\brend\\Documents\\climbing_project\\climbing_project\\data\\bronze\\method\\_delta_log\\00000000000000000000.json\", \"r\") as file:\n",
    "     for line in file:\n",
    "        parsed_json = json.loads(line)  # Parse each JSON object\n",
    "        print(json.dumps(parsed_json, indent=4))  # Pretty-print with indentation\n",
    "        print(\"-\" * 40)  # Separator for readability"
   ]
  },
  {
   "cell_type": "code",
   "execution_count": 17,
   "id": "6f777e72-a49b-4e93-9306-253fa5322320",
   "metadata": {},
   "outputs": [
    {
     "data": {
      "text/html": [
       "<div>\n",
       "<style scoped>\n",
       "    .dataframe tbody tr th:only-of-type {\n",
       "        vertical-align: middle;\n",
       "    }\n",
       "\n",
       "    .dataframe tbody tr th {\n",
       "        vertical-align: top;\n",
       "    }\n",
       "\n",
       "    .dataframe thead th {\n",
       "        text-align: right;\n",
       "    }\n",
       "</style>\n",
       "<table border=\"1\" class=\"dataframe\">\n",
       "  <thead>\n",
       "    <tr style=\"text-align: right;\">\n",
       "      <th></th>\n",
       "      <th>type</th>\n",
       "      <th>name</th>\n",
       "      <th>tbl_name</th>\n",
       "      <th>rootpage</th>\n",
       "      <th>sql</th>\n",
       "    </tr>\n",
       "  </thead>\n",
       "  <tbody>\n",
       "  </tbody>\n",
       "</table>\n",
       "</div>"
      ],
      "text/plain": [
       "Empty DataFrame\n",
       "Columns: [type, name, tbl_name, rootpage, sql]\n",
       "Index: []"
      ]
     },
     "execution_count": 17,
     "metadata": {},
     "output_type": "execute_result"
    }
   ],
   "source": []
  },
  {
   "cell_type": "code",
   "execution_count": null,
   "id": "605a22eb-69f2-4086-8544-92201f14f626",
   "metadata": {},
   "outputs": [],
   "source": [
    "# Read "
   ]
  },
  {
   "cell_type": "code",
   "execution_count": null,
   "id": "f65323e4-5587-417d-9e79-2a1d18e1fce0",
   "metadata": {},
   "outputs": [],
   "source": []
  }
 ],
 "metadata": {
  "kernelspec": {
   "display_name": "Python 3 (ipykernel)",
   "language": "python",
   "name": "python3"
  },
  "language_info": {
   "codemirror_mode": {
    "name": "ipython",
    "version": 3
   },
   "file_extension": ".py",
   "mimetype": "text/x-python",
   "name": "python",
   "nbconvert_exporter": "python",
   "pygments_lexer": "ipython3",
   "version": "3.12.8"
  }
 },
 "nbformat": 4,
 "nbformat_minor": 5
}

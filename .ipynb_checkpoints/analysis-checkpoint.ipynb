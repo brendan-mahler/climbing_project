{
 "cells": [
  {
   "cell_type": "code",
   "execution_count": 15,
   "id": "f48c56b0-9ae2-4cee-8a3a-5184bd249c77",
   "metadata": {},
   "outputs": [],
   "source": [
    "# import sqlite3\n",
    "import os\n",
    "from deltalake import DeltaTable\n",
    "from deltalake.writer import write_deltalake\n",
    "import numpy as np\n",
    "import pandas as pd\n",
    "import matplotlib.pyplot as plt\n",
    "import seaborn as sns\n",
    "# conn = sqlite3.connect(\"database.sqlite\")"
   ]
  },
  {
   "cell_type": "code",
   "execution_count": 13,
   "id": "b4a3943f-f4d2-42b4-afd2-67915647bbc5",
   "metadata": {},
   "outputs": [],
   "source": [
    "# Read in gold tables\n",
    "avg_height_by_grade_year_df = DeltaTable(\"climbing_project/data/gold/avg_height_by_grade_year\").to_pandas()\n",
    "users_grouped_by_country = DeltaTable(\"climbing_project/data/gold/users_grouped_by_country\").to_pandas()\n"
   ]
  },
  {
   "cell_type": "code",
   "execution_count": 11,
   "id": "c039b1fb-cb41-45ef-8a8d-e01c3d3b7348",
   "metadata": {},
   "outputs": [
    {
     "name": "stdout",
     "output_type": "stream",
     "text": [
      "Requirement already satisfied: deltalake in c:\\users\\brend\\miniconda3\\lib\\site-packages (0.24.0)\n",
      "Requirement already satisfied: pyarrow>=16 in c:\\users\\brend\\miniconda3\\lib\\site-packages (from deltalake) (18.1.0)\n"
     ]
    }
   ],
   "source": []
  }
 ],
 "metadata": {
  "kernelspec": {
   "display_name": "Python 3 (ipykernel)",
   "language": "python",
   "name": "python3"
  },
  "language_info": {
   "codemirror_mode": {
    "name": "ipython",
    "version": 3
   },
   "file_extension": ".py",
   "mimetype": "text/x-python",
   "name": "python",
   "nbconvert_exporter": "python",
   "pygments_lexer": "ipython3",
   "version": "3.12.8"
  }
 },
 "nbformat": 4,
 "nbformat_minor": 5
}

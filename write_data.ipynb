{
 "cells": [
  {
   "cell_type": "code",
   "execution_count": 9,
   "id": "3c8a183f-8950-49bc-96d8-0041e833571c",
   "metadata": {},
   "outputs": [],
   "source": [
    "import sqlite3\n",
    "import os\n",
    "from deltalake import DeltaTable\n",
    "from deltalake.writer import write_deltalake\n",
    "import numpy as np\n",
    "import pandas as pd\n",
    "conn = sqlite3.connect(\"database.sqlite\")\n"
   ]
  },
  {
   "cell_type": "code",
   "execution_count": 22,
   "id": "aa0506b9-b813-4e3e-adc3-2ada0a6d6837",
   "metadata": {},
   "outputs": [],
   "source": [
    "user_df = pd.read_sql_query(\"select * from user;\", conn)\n",
    "grade_df = pd.read_sql_query(\"select * from grade;\", conn)\n",
    "method_df = pd.read_sql_query(\"select * from method;\", conn)\n",
    "ascent_df = pd.read_sql_query(\"select * from ascent;\", conn)"
   ]
  },
  {
   "cell_type": "code",
   "execution_count": 23,
   "id": "870739ed-9d13-4fc8-9756-704e4bc63c36",
   "metadata": {},
   "outputs": [],
   "source": [
    "# Write bronze data\n",
    "write_deltalake(\"climbing_project/data/bronze/user\", user_df, mode=\"overwrite\")\n",
    "write_deltalake(\"climbing_project/data/bronze/grade\", grade_df, mode=\"overwrite\")\n",
    "write_deltalake(\"climbing_project/data/bronze/method\", method_df, mode=\"overwrite\")\n",
    "write_deltalake(\"climbing_project/data/bronze/ascent\", ascent_df, mode=\"overwrite\")"
   ]
  },
  {
   "cell_type": "code",
   "execution_count": 29,
   "id": "bed18031-28cc-4ae1-8149-449211c91957",
   "metadata": {},
   "outputs": [],
   "source": [
    "# Read bronze data\n",
    "fact_user_bronze_df = DeltaTable(\"climbing_project/data/bronze/user\").to_pandas()\n",
    "fact_ascent_bronze_df = DeltaTable(\"climbing_project/data/bronze/ascent\").to_pandas()\n",
    "dim_grade_bronze_df = DeltaTable(\"climbing_project/data/bronze/grade\").to_pandas()\n",
    "dim_method_bronze_df = DeltaTable(\"climbing_project/data/bronze/method\").to_pandas()\n"
   ]
  },
  {
   "cell_type": "code",
   "execution_count": null,
   "id": "b3d5489c-fba1-4132-a945-457200259848",
   "metadata": {},
   "outputs": [],
   "source": [
    "# Apply transformations for silver table"
   ]
  },
  {
   "cell_type": "code",
   "execution_count": 69,
   "id": "6bd8ea59-554e-4f4e-87db-4e41a14bc455",
   "metadata": {},
   "outputs": [],
   "source": [
    "# METHOD rename column name to climb_type\n",
    "dim_method_silver_df = dim_method_bronze_df.rename(columns={'shorthand':'climb_type'})"
   ]
  },
  {
   "cell_type": "code",
   "execution_count": 70,
   "id": "e7101c38-73b8-41a7-834a-a23d6ab38de5",
   "metadata": {},
   "outputs": [],
   "source": [
    "# GRADE\n",
    "dim_grade_columns = ['id', 'score', 'fra_routes', 'fra_boulders']\n",
    "dim_grade_silver_df = dim_grade_bronze_df[dim_grade_columns]"
   ]
  },
  {
   "cell_type": "code",
   "execution_count": 71,
   "id": "3db875d6-a5ef-4dac-b7e1-fb5b09aeb89a",
   "metadata": {},
   "outputs": [],
   "source": [
    "# USER\n",
    "fact_user_silver_df = fact_user_bronze_df[fact_user_bronze_df['deactivated'] == 0]\n",
    "user_silver_columns = ['id', 'country', 'sex', 'height', 'weight', 'started']\n",
    "fact_user_silver_df = fact_user_silver_df[user_silver_columns]"
   ]
  },
  {
   "cell_type": "code",
   "execution_count": 90,
   "id": "1c178fcc-9601-479d-bd5e-eaa5ca02d454",
   "metadata": {},
   "outputs": [],
   "source": [
    "# ASCENT Add column to convert unix time to timestamp, select relevant columns and filter to year between 1980 and 2017\n",
    "fact_ascent_bronze_df['datetime'] = pd.to_datetime(fact_ascent_bronze_df['date'], unit='s')\n",
    "ascent_silver_columns = ['id','user_id', 'grade_id', 'method_id', 'climb_type', 'year', 'chipped']\n",
    "fact_ascent_silver_df = fact_ascent_bronze_df[ascent_silver_columns]\n",
    "fact_ascent_silver_df = fact_ascent_silver_df[(fact_ascent_silver_df['year'] >= 1980) & (fact_ascent_silver_df['year'] <= 2017)]\n",
    "\n",
    "# Join to grade and method tables\n",
    "fact_ascent_silver_grade_df = pd.merge(fact_ascent_silver_df, dim_grade_silver_df, left_on='grade_id', right_on='id',suffixes=('_ascent', '_grade'))\n",
    "fact_ascent_silver_final_df = pd.merge(fact_ascent_silver_grade_df, dim_method_silver_df, left_on='method_id', right_on='id', suffixes=('_ascent', '_method'))\n",
    "fact_ascent_silver_final_columns = ['id_ascent', 'user_id', 'year', 'chipped', 'score_ascent', 'fra_routes', 'fra_boulders', 'climb_type_method']\n",
    "fact_ascent_silver_final_df = fact_ascent_silver_final_df.dropna(subset=['fra_routes'])\n",
    "fact_ascent_silver_final_df = fact_ascent_silver_final_df[fact_ascent_silver_final_columns]"
   ]
  },
  {
   "cell_type": "code",
   "execution_count": 91,
   "id": "34081716-7bae-4a80-88bf-a69701bc2fe1",
   "metadata": {},
   "outputs": [],
   "source": [
    "# Write silver tables to delta lake\n",
    "write_deltalake(\"climbing_project/data/silver/user\", fact_user_silver_df, mode=\"overwrite\")\n",
    "write_deltalake(\"climbing_project/data/silver/grade\", dim_grade_silver_df, mode=\"overwrite\")\n",
    "write_deltalake(\"climbing_project/data/silver/method\", dim_method_silver_df, mode=\"overwrite\")\n",
    "write_deltalake(\"climbing_project/data/silver/ascent\", fact_ascent_silver_final_df, mode=\"overwrite\")"
   ]
  },
  {
   "cell_type": "code",
   "execution_count": 92,
   "id": "8538be38-2ad3-4ed1-9919-f467d919a0eb",
   "metadata": {},
   "outputs": [],
   "source": [
    "# Read silver tables\n",
    "fact_user_silver_df_2 = DeltaTable(\"climbing_project/data/silver/user\").to_pandas()\n",
    "fact_ascent_silver_df_2 = DeltaTable(\"climbing_project/data/silver/ascent\").to_pandas()\n"
   ]
  },
  {
   "cell_type": "code",
   "execution_count": 115,
   "id": "c8939118-8c03-498c-bb24-ec792c19cc24",
   "metadata": {},
   "outputs": [],
   "source": [
    "# Create gold tables\n",
    "\n",
    "# Average height by grade\n",
    "merged_df = fact_user_silver_df_2.merge(fact_ascent_silver_df_2, left_on='id', right_on='user_id')\n",
    "avg_height_by_grade_df = merged_df.groupby(['fra_routes'])['height'].mean().reset_index()\n",
    "\n",
    "# Users grouped y countries\n",
    "users_grouped_by_country_df = fact_user_silver_df_2['country'].value_counts().reset_index()"
   ]
  },
  {
   "cell_type": "code",
   "execution_count": 116,
   "id": "284f558c-9062-4a59-815e-f83af0b98867",
   "metadata": {},
   "outputs": [],
   "source": [
    "# Write gold tables to delta lake\n",
    "write_deltalake(\"climbing_project/data/gold/avg_height_by_grade_year\", avg_height_by_grade_df, mode=\"overwrite\")\n",
    "write_deltalake(\"climbing_project/data/gold/users_grouped_by_country\", users_grouped_by_country_df, mode=\"overwrite\")\n"
   ]
  },
  {
   "cell_type": "code",
   "execution_count": 114,
   "id": "aeacd648-dff1-41f0-a675-90e34aeba639",
   "metadata": {},
   "outputs": [
    {
     "data": {
      "text/plain": [
       "country\n",
       "USA    11471\n",
       "ESP     6590\n",
       "DEU     3505\n",
       "SWE     3434\n",
       "ITA     3380\n",
       "       ...  \n",
       "AIA        1\n",
       "MCO        1\n",
       "FJI        1\n",
       "BFA        1\n",
       "SGS        1\n",
       "Name: count, Length: 212, dtype: int64"
      ]
     },
     "execution_count": 114,
     "metadata": {},
     "output_type": "execute_result"
    }
   ],
   "source": [
    "users_grouped_by_country_df"
   ]
  }
 ],
 "metadata": {
  "kernelspec": {
   "display_name": "Python 3 (ipykernel)",
   "language": "python",
   "name": "python3"
  },
  "language_info": {
   "codemirror_mode": {
    "name": "ipython",
    "version": 3
   },
   "file_extension": ".py",
   "mimetype": "text/x-python",
   "name": "python",
   "nbconvert_exporter": "python",
   "pygments_lexer": "ipython3",
   "version": "3.12.8"
  }
 },
 "nbformat": 4,
 "nbformat_minor": 5
}
